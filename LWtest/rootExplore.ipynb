{
 "cells": [
  {
   "cell_type": "code",
   "execution_count": 3,
   "metadata": {},
   "outputs": [
    {
     "name": "stdout",
     "output_type": "stream",
     "text": [
      "['tag;1', 'Events;1', 'LuminosityBlocks;1', 'Runs;1', 'MetaData;1', 'ParameterSets;1']\n",
      "['run', 'luminosityBlock', 'event', 'HTXS_Higgs_pt', 'HTXS_Higgs_y', 'HTXS_stage1_1_cat_pTjet25GeV', 'HTXS_stage1_1_cat_pTjet30GeV', 'HTXS_stage1_1_fine_cat_pTjet25GeV', 'HTXS_stage1_1_fine_cat_pTjet30GeV', 'HTXS_stage1_2_cat_pTjet25GeV', 'HTXS_stage1_2_cat_pTjet30GeV', 'HTXS_stage1_2_fine_cat_pTjet25GeV', 'HTXS_stage1_2_fine_cat_pTjet30GeV', 'HTXS_stage_0', 'HTXS_stage_1_pTjet25', 'HTXS_stage_1_pTjet30', 'HTXS_njets25', 'HTXS_njets30', 'btagWeight_CSVV2', 'btagWeight_CMVA', 'CaloMET_phi', 'CaloMET_pt', 'CaloMET_sumEt', 'ChsMET_phi', 'ChsMET_pt', 'ChsMET_sumEt', 'nCorrT1METJet', 'CorrT1METJet_area', 'CorrT1METJet_eta', 'CorrT1METJet_muonSubtrFactor', 'CorrT1METJet_phi', 'CorrT1METJet_rawPt', 'DeepMETResolutionTune_phi', 'DeepMETResolutionTune_pt', 'DeepMETResponseTune_phi', 'DeepMETResponseTune_pt', 'nElectron', 'Electron_dEscaleDown', 'Electron_dEscaleUp', 'Electron_dEsigmaDown', 'Electron_dEsigmaUp', 'Electron_deltaEtaSC', 'Electron_dr03EcalRecHitSumEt', 'Electron_dr03HcalDepth1TowerSumEt', 'Electron_dr03TkSumPt', 'Electron_dr03TkSumPtHEEP', 'Electron_dxy', 'Electron_dxyErr', 'Electron_dz', 'Electron_dzErr', 'Electron_e', 'Electron_eCorr', 'Electron_eInvMinusPInv', 'Electron_energyErr', 'Electron_eta', 'Electron_hoe', 'Electron_ip3d', 'Electron_jetPtRelv2', 'Electron_jetRelIso', 'Electron_mass', 'Electron_miniPFRelIso_all', 'Electron_miniPFRelIso_chg', 'Electron_mvaFall17V1Iso', 'Electron_mvaFall17V1noIso', 'Electron_mvaFall17V2Iso', 'Electron_mvaFall17V2noIso', 'Electron_mvaSpring16GP', 'Electron_mvaSpring16HZZ', 'Electron_pfRelIso03_all', 'Electron_pfRelIso03_chg', 'Electron_phi', 'Electron_pt', 'Electron_px', 'Electron_py', 'Electron_pz', 'Electron_r9', 'Electron_scEtOverPt', 'Electron_sieie', 'Electron_sip3d', 'Electron_mvaTTH', 'Electron_charge', 'Electron_cutBased', 'Electron_cutBased_Fall17_V1', 'Electron_cutBased_HLTPreSel', 'Electron_cutBased_Spring15', 'Electron_cutBased_Sum16', 'Electron_jetIdx', 'Electron_pdgId', 'Electron_photonIdx', 'Electron_tightCharge', 'Electron_vidNestedWPBitmap', 'Electron_vidNestedWPBitmapHEEP', 'Electron_vidNestedWPBitmapSpring15', 'Electron_vidNestedWPBitmapSum16', 'Electron_convVeto', 'Electron_cutBased_HEEP', 'Electron_isPFcand', 'Electron_jetNDauCharged', 'Electron_lostHits', 'Electron_mvaFall17V1Iso_WP80', 'Electron_mvaFall17V1Iso_WP90', 'Electron_mvaFall17V1Iso_WPL', 'Electron_mvaFall17V1noIso_WP80', 'Electron_mvaFall17V1noIso_WP90', 'Electron_mvaFall17V1noIso_WPL', 'Electron_mvaFall17V2Iso_WP80', 'Electron_mvaFall17V2Iso_WP90', 'Electron_mvaFall17V2Iso_WPL', 'Electron_mvaFall17V2noIso_WP80', 'Electron_mvaFall17V2noIso_WP90', 'Electron_mvaFall17V2noIso_WPL', 'Electron_mvaSpring16GP_WP80', 'Electron_mvaSpring16GP_WP90', 'Electron_mvaSpring16HZZ_WPL', 'Electron_seedGain', 'nFatJet', 'FatJet_area', 'FatJet_btagCMVA', 'FatJet_btagCSVV2', 'FatJet_btagDDBvL', 'FatJet_btagDDBvLV2', 'FatJet_btagDDBvL_noMD', 'FatJet_btagDDCvB', 'FatJet_btagDDCvBV2', 'FatJet_btagDDCvB_noMD', 'FatJet_btagDDCvL', 'FatJet_btagDDCvLV2', 'FatJet_btagDDCvL_noMD', 'FatJet_btagDeepB', 'FatJet_btagHbb', 'FatJet_deepTagMD_H4qvsQCD', 'FatJet_deepTagMD_HbbvsQCD', 'FatJet_deepTagMD_TvsQCD', 'FatJet_deepTagMD_WvsQCD', 'FatJet_deepTagMD_ZHbbvsQCD', 'FatJet_deepTagMD_ZHccvsQCD', 'FatJet_deepTagMD_ZbbvsQCD', 'FatJet_deepTagMD_ZvsQCD', 'FatJet_deepTagMD_bbvsLight', 'FatJet_deepTagMD_ccvsLight', 'FatJet_deepTag_H', 'FatJet_deepTag_QCD', 'FatJet_deepTag_QCDothers', 'FatJet_deepTag_TvsQCD', 'FatJet_deepTag_WvsQCD', 'FatJet_deepTag_ZvsQCD', 'FatJet_eta', 'FatJet_mass', 'FatJet_msoftdrop', 'FatJet_n2b1', 'FatJet_n3b1', 'FatJet_particleNetMD_QCD', 'FatJet_particleNetMD_Xbb', 'FatJet_particleNetMD_Xcc', 'FatJet_particleNetMD_Xqq', 'FatJet_particleNet_H4qvsQCD', 'FatJet_particleNet_HbbvsQCD', 'FatJet_particleNet_HccvsQCD', 'FatJet_particleNet_QCD', 'FatJet_particleNet_TvsQCD', 'FatJet_particleNet_WvsQCD', 'FatJet_particleNet_ZvsQCD', 'FatJet_particleNet_mass', 'FatJet_phi', 'FatJet_pt', 'FatJet_rawFactor', 'FatJet_tau1', 'FatJet_tau2', 'FatJet_tau3', 'FatJet_tau4', 'FatJet_lsf3', 'FatJet_jetId', 'FatJet_subJetIdx1', 'FatJet_subJetIdx2', 'FatJet_electronIdx3SJ', 'FatJet_muonIdx3SJ', 'FatJet_nConstituents', 'nFsrPhoton', 'FsrPhoton_dROverEt2', 'FsrPhoton_eta', 'FsrPhoton_phi', 'FsrPhoton_pt', 'FsrPhoton_relIso03', 'FsrPhoton_muonIdx', 'nGenJetAK8', 'GenJetAK8_eta', 'GenJetAK8_mass', 'GenJetAK8_phi', 'GenJetAK8_pt', 'nGenJet', 'GenJet_eta', 'GenJet_mass', 'GenJet_phi', 'GenJet_pt', 'nGenPart', 'GenPart_eta', 'GenPart_mass', 'GenPart_phi', 'GenPart_pt', 'GenPart_genPartIdxMother', 'GenPart_pdgId', 'GenPart_status', 'GenPart_statusFlags', 'nSubGenJetAK8', 'SubGenJetAK8_eta', 'SubGenJetAK8_mass', 'SubGenJetAK8_phi', 'SubGenJetAK8_pt', 'Generator_binvar', 'Generator_scalePDF', 'Generator_weight', 'Generator_x1', 'Generator_x2', 'Generator_xpdf1', 'Generator_xpdf2', 'Generator_id1', 'Generator_id2', 'nGenVisTau', 'GenVisTau_eta', 'GenVisTau_mass', 'GenVisTau_phi', 'GenVisTau_pt', 'GenVisTau_charge', 'GenVisTau_genPartIdxMother', 'GenVisTau_status', 'genWeight', 'LHEWeight_originalXWGTUP', 'nLHEPdfWeight', 'LHEPdfWeight', 'nLHEReweightingWeight', 'LHEReweightingWeight', 'nLHEScaleWeight', 'LHEScaleWeight', 'nPSWeight', 'PSWeight', 'nIsoTrack', 'IsoTrack_dxy', 'IsoTrack_dz', 'IsoTrack_eta', 'IsoTrack_pfRelIso03_all', 'IsoTrack_pfRelIso03_chg', 'IsoTrack_phi', 'IsoTrack_pt', 'IsoTrack_miniPFRelIso_all', 'IsoTrack_miniPFRelIso_chg', 'IsoTrack_charge', 'IsoTrack_fromPV', 'IsoTrack_pdgId', 'IsoTrack_isHighPurityTrack', 'IsoTrack_isPFcand', 'IsoTrack_isFromLostTrack', 'nJet', 'Jet_area', 'Jet_btagCMVA', 'Jet_btagCSVV2', 'Jet_btagDeepB', 'Jet_btagDeepC', 'Jet_btagDeepCvB', 'Jet_btagDeepCvL', 'Jet_btagDeepFlavB', 'Jet_btagDeepFlavC', 'Jet_btagDeepFlavCvB', 'Jet_btagDeepFlavCvL', 'Jet_btagDeepFlavQG', 'Jet_chEmEF', 'Jet_chFPV0EF', 'Jet_chHEF', 'Jet_eta', 'Jet_hfsigmaEtaEta', 'Jet_hfsigmaPhiPhi', 'Jet_mass', 'Jet_muEF', 'Jet_muonSubtrFactor', 'Jet_neEmEF', 'Jet_neHEF', 'Jet_phi', 'Jet_pt', 'Jet_puIdDisc', 'Jet_qgl', 'Jet_rawFactor', 'Jet_bRegCorr', 'Jet_bRegRes', 'Jet_cRegCorr', 'Jet_cRegRes', 'Jet_electronIdx1', 'Jet_electronIdx2', 'Jet_hfadjacentEtaStripsSize', 'Jet_hfcentralEtaStripSize', 'Jet_jetId', 'Jet_muonIdx1', 'Jet_muonIdx2', 'Jet_nElectrons', 'Jet_nMuons', 'Jet_puId', 'Jet_nConstituents', 'L1PreFiringWeight_Dn', 'L1PreFiringWeight_ECAL_Dn', 'L1PreFiringWeight_ECAL_Nom', 'L1PreFiringWeight_ECAL_Up', 'L1PreFiringWeight_Muon_Nom', 'L1PreFiringWeight_Muon_StatDn', 'L1PreFiringWeight_Muon_StatUp', 'L1PreFiringWeight_Muon_SystDn', 'L1PreFiringWeight_Muon_SystUp', 'L1PreFiringWeight_Nom', 'L1PreFiringWeight_Up', 'LHE_HT', 'LHE_HTIncoming', 'LHE_Vpt', 'LHE_AlphaS', 'LHE_Njets', 'LHE_Nb', 'LHE_Nc', 'LHE_Nuds', 'LHE_Nglu', 'LHE_NpNLO', 'LHE_NpLO', 'nLHEPart', 'LHEPart_pt', 'LHEPart_eta', 'LHEPart_phi', 'LHEPart_mass', 'LHEPart_incomingpz', 'LHEPart_pdgId', 'LHEPart_status', 'LHEPart_spin', 'GenMET_phi', 'GenMET_pt', 'MET_MetUnclustEnUpDeltaX', 'MET_MetUnclustEnUpDeltaY', 'MET_covXX', 'MET_covXY', 'MET_covYY', 'MET_phi', 'MET_pt', 'MET_significance', 'MET_sumEt', 'MET_sumPtUnclustered', 'nMuon', 'Muon_dxy', 'Muon_dxyErr', 'Muon_dxybs', 'Muon_dz', 'Muon_dzErr', 'Muon_eta', 'Muon_ip3d', 'Muon_jetPtRelv2', 'Muon_jetRelIso', 'Muon_mass', 'Muon_miniPFRelIso_all', 'Muon_miniPFRelIso_chg', 'Muon_pfRelIso03_all', 'Muon_pfRelIso03_chg', 'Muon_pfRelIso04_all', 'Muon_phi', 'Muon_pt', 'Muon_ptErr', 'Muon_segmentComp', 'Muon_sip3d', 'Muon_tkRelIso', 'Muon_tunepRelPt', 'Muon_mvaLowPt', 'Muon_mvaTTH', 'Muon_charge', 'Muon_jetIdx', 'Muon_nStations', 'Muon_nTrackerLayers', 'Muon_pdgId', 'Muon_tightCharge', 'Muon_fsrPhotonIdx', 'Muon_highPtId', 'Muon_highPurity', 'Muon_inTimeMuon', 'Muon_isGlobal', 'Muon_isPFcand', 'Muon_isStandalone', 'Muon_isTracker', 'Muon_jetNDauCharged', 'Muon_looseId', 'Muon_mediumId', 'Muon_mediumPromptId', 'Muon_miniIsoId', 'Muon_multiIsoId', 'Muon_mvaId', 'Muon_mvaLowPtId', 'Muon_pfIsoId', 'Muon_softId', 'Muon_softMvaId', 'Muon_tightId', 'Muon_tkIsoId', 'Muon_triggerIdLoose', 'nPhoton', 'Photon_dEscaleDown', 'Photon_dEscaleUp', 'Photon_dEsigmaDown', 'Photon_dEsigmaUp', 'Photon_eCorr', 'Photon_energyErr', 'Photon_eta', 'Photon_hoe', 'Photon_mass', 'Photon_mvaID', 'Photon_mvaID_Fall17V1p1', 'Photon_mvaID_Spring16nonTrigV1', 'Photon_pfRelIso03_all', 'Photon_pfRelIso03_chg', 'Photon_phi', 'Photon_pt', 'Photon_r9', 'Photon_sieie', 'Photon_charge', 'Photon_cutBased', 'Photon_cutBased_Fall17V1Bitmap', 'Photon_cutBased_Spring16V2p2', 'Photon_electronIdx', 'Photon_jetIdx', 'Photon_pdgId', 'Photon_vidNestedWPBitmap', 'Photon_vidNestedWPBitmap_Spring16V2p2', 'Photon_electronVeto', 'Photon_isScEtaEB', 'Photon_isScEtaEE', 'Photon_mvaID_WP80', 'Photon_mvaID_WP90', 'Photon_pixelSeed', 'Photon_seedGain', 'Pileup_nTrueInt', 'Pileup_pudensity', 'Pileup_gpudensity', 'Pileup_nPU', 'Pileup_sumEOOT', 'Pileup_sumLOOT', 'PuppiMET_phi', 'PuppiMET_phiJERDown', 'PuppiMET_phiJERUp', 'PuppiMET_phiJESDown', 'PuppiMET_phiJESUp', 'PuppiMET_phiUnclusteredDown', 'PuppiMET_phiUnclusteredUp', 'PuppiMET_pt', 'PuppiMET_ptJERDown', 'PuppiMET_ptJERUp', 'PuppiMET_ptJESDown', 'PuppiMET_ptJESUp', 'PuppiMET_ptUnclusteredDown', 'PuppiMET_ptUnclusteredUp', 'PuppiMET_sumEt', 'RawMET_phi', 'RawMET_pt', 'RawMET_sumEt', 'RawPuppiMET_phi', 'RawPuppiMET_pt', 'RawPuppiMET_sumEt', 'fixedGridRhoFastjetAll', 'fixedGridRhoFastjetCentral', 'fixedGridRhoFastjetCentralCalo', 'fixedGridRhoFastjetCentralChargedPileUp', 'fixedGridRhoFastjetCentralNeutral', 'nGenDressedLepton', 'GenDressedLepton_eta', 'GenDressedLepton_mass', 'GenDressedLepton_phi', 'GenDressedLepton_pt', 'GenDressedLepton_pdgId', 'GenDressedLepton_hasTauAnc', 'nGenIsolatedPhoton', 'GenIsolatedPhoton_eta', 'GenIsolatedPhoton_mass', 'GenIsolatedPhoton_phi', 'GenIsolatedPhoton_pt', 'nSoftActivityJet', 'SoftActivityJet_eta', 'SoftActivityJet_phi', 'SoftActivityJet_pt', 'SoftActivityJetHT', 'SoftActivityJetHT10', 'SoftActivityJetHT2', 'SoftActivityJetHT5', 'SoftActivityJetNjets10', 'SoftActivityJetNjets2', 'SoftActivityJetNjets5', 'nSubJet', 'SubJet_btagCMVA', 'SubJet_btagCSVV2', 'SubJet_btagDeepB', 'SubJet_eta', 'SubJet_mass', 'SubJet_n2b1', 'SubJet_n3b1', 'SubJet_phi', 'SubJet_pt', 'SubJet_rawFactor', 'SubJet_tau1', 'SubJet_tau2', 'SubJet_tau3', 'SubJet_tau4', 'nTau', 'Tau_chargedIso', 'Tau_dxy', 'Tau_dz', 'Tau_eta', 'Tau_leadTkDeltaEta', 'Tau_leadTkDeltaPhi', 'Tau_leadTkPtOverTauPt', 'Tau_mass', 'Tau_neutralIso', 'Tau_phi', 'Tau_photonsOutsideSignalCone', 'Tau_pt', 'Tau_puCorr', 'Tau_rawAntiEle', 'Tau_rawAntiEle2018', 'Tau_rawDeepTau2017v2p1VSe', 'Tau_rawDeepTau2017v2p1VSjet', 'Tau_rawDeepTau2017v2p1VSmu', 'Tau_rawIso', 'Tau_rawIsodR03', 'Tau_rawMVAnewDM2017v2', 'Tau_rawMVAoldDM', 'Tau_rawMVAoldDM2017v1', 'Tau_rawMVAoldDM2017v2', 'Tau_rawMVAoldDMdR032017v2', 'Tau_charge', 'Tau_decayMode', 'Tau_jetIdx', 'Tau_rawAntiEleCat', 'Tau_rawAntiEleCat2018', 'Tau_idAntiEle', 'Tau_idAntiEle2018', 'Tau_idAntiEleDeadECal', 'Tau_idAntiMu', 'Tau_idDecayMode', 'Tau_idDecayModeNewDMs', 'Tau_idDeepTau2017v2p1VSe', 'Tau_idDeepTau2017v2p1VSjet', 'Tau_idDeepTau2017v2p1VSmu', 'Tau_idMVAnewDM2017v2', 'Tau_idMVAoldDM', 'Tau_idMVAoldDM2017v1', 'Tau_idMVAoldDM2017v2', 'Tau_idMVAoldDMdR032017v2', 'TkMET_phi', 'TkMET_pt', 'TkMET_sumEt', 'nTrigObj', 'TrigObj_pt', 'TrigObj_eta', 'TrigObj_phi', 'TrigObj_l1pt', 'TrigObj_l1pt_2', 'TrigObj_l2pt', 'TrigObj_id', 'TrigObj_l1iso', 'TrigObj_l1charge', 'TrigObj_filterBits', 'genTtbarId', 'nOtherPV', 'OtherPV_z', 'PV_ndof', 'PV_x', 'PV_y', 'PV_z', 'PV_chi2', 'PV_score', 'PV_npvs', 'PV_npvsGood', 'nSV', 'SV_dlen', 'SV_dlenSig', 'SV_dxy', 'SV_dxySig', 'SV_pAngle', 'SV_charge', 'Electron_genPartIdx', 'Electron_genPartFlav', 'FatJet_genJetAK8Idx', 'FatJet_hadronFlavour', 'FatJet_nBHadrons', 'FatJet_nCHadrons', 'GenJetAK8_partonFlavour', 'GenJetAK8_hadronFlavour', 'GenJet_partonFlavour', 'GenJet_hadronFlavour', 'Jet_genJetIdx', 'Jet_hadronFlavour', 'Jet_partonFlavour', 'Muon_genPartIdx', 'Muon_genPartFlav', 'Photon_genPartIdx', 'Photon_genPartFlav', 'MET_fiducialGenPhi', 'MET_fiducialGenPt', 'Electron_cleanmask', 'Jet_cleanmask', 'Muon_cleanmask', 'Photon_cleanmask', 'Tau_cleanmask', 'SubJet_hadronFlavour', 'SubJet_nBHadrons', 'SubJet_nCHadrons', 'SV_chi2', 'SV_eta', 'SV_mass', 'SV_ndof', 'SV_phi', 'SV_pt', 'SV_x', 'SV_y', 'SV_z', 'SV_ntracks', 'Tau_genPartIdx', 'Tau_genPartFlav', 'L1_AlwaysTrue', 'L1_BRIL_TRIG0_AND', 'L1_BRIL_TRIG0_FstBunchInTrain', 'L1_BRIL_TRIG0_OR', 'L1_BRIL_TRIG0_delayedAND', 'L1_BeamGasB1', 'L1_BeamGasB2', 'L1_BeamGasMinus', 'L1_BeamGasPlus', 'L1_BptxMinus', 'L1_BptxOR', 'L1_BptxPlus', 'L1_BptxXOR', 'L1_DoubleEG6_HTT255', 'L1_DoubleEG_15_10', 'L1_DoubleEG_18_17', 'L1_DoubleEG_20_18', 'L1_DoubleEG_22_10', 'L1_DoubleEG_22_12', 'L1_DoubleEG_22_15', 'L1_DoubleEG_23_10', 'L1_DoubleEG_24_17', 'L1_DoubleEG_25_12', 'L1_DoubleIsoTau28er', 'L1_DoubleIsoTau30er', 'L1_DoubleIsoTau32er', 'L1_DoubleIsoTau33er', 'L1_DoubleIsoTau34er', 'L1_DoubleIsoTau35er', 'L1_DoubleIsoTau36er', 'L1_DoubleJet12_ForwardBackward', 'L1_DoubleJet16_ForwardBackward', 'L1_DoubleJet8_ForwardBackward', 'L1_DoubleJetC100', 'L1_DoubleJetC112', 'L1_DoubleJetC120', 'L1_DoubleJetC40', 'L1_DoubleJetC50', 'L1_DoubleJetC60', 'L1_DoubleJetC60_ETM60', 'L1_DoubleJetC80', 'L1_DoubleMu0', 'L1_DoubleMu0_ETM40', 'L1_DoubleMu0_ETM55', 'L1_DoubleMu0er1p4_dEta_Max1p8_OS', 'L1_DoubleMu0er1p6_dEta_Max1p8', 'L1_DoubleMu0er1p6_dEta_Max1p8_OS', 'L1_DoubleMu7_EG14', 'L1_DoubleMu7_EG7', 'L1_DoubleMuOpen', 'L1_DoubleMu_10_0_dEta_Max1p8', 'L1_DoubleMu_10_3p5', 'L1_DoubleMu_10_Open', 'L1_DoubleMu_11_4', 'L1_DoubleMu_12_5', 'L1_DoubleMu_12_8', 'L1_DoubleMu_13_6', 'L1_DoubleMu_15_5', 'L1_DoubleTau50er', 'L1_EG25er_HTT125', 'L1_EG27er_HTT200', 'L1_ETM100', 'L1_ETM120', 'L1_ETM30', 'L1_ETM40', 'L1_ETM50', 'L1_ETM60', 'L1_ETM70', 'L1_ETM75', 'L1_ETM75_Jet60_dPhi_Min0p4', 'L1_ETM80', 'L1_ETM85', 'L1_ETM90', 'L1_ETM95', 'L1_ETT25', 'L1_ETT35_BptxAND', 'L1_ETT40_BptxAND', 'L1_ETT50_BptxAND', 'L1_ETT60_BptxAND', 'L1_FirstBunchAfterTrain', 'L1_FirstBunchInTrain', 'L1_HTM100', 'L1_HTM120', 'L1_HTM130', 'L1_HTM140', 'L1_HTM150', 'L1_HTM50', 'L1_HTM60_HTT260', 'L1_HTM70', 'L1_HTM80', 'L1_HTM80_HTT220', 'L1_HTT120', 'L1_HTT160', 'L1_HTT200', 'L1_HTT220', 'L1_HTT240', 'L1_HTT255', 'L1_HTT270', 'L1_HTT280', 'L1_HTT300', 'L1_HTT320', 'L1_IsoEG18er_IsoTau24er_dEta_Min0p2', 'L1_IsoEG20er_IsoTau25er_dEta_Min0p2', 'L1_IsoEG22er_IsoTau26er_dEta_Min0p2', 'L1_IsoEG22er_Tau20er_dEta_Min0p2', 'L1_IsolatedBunch', 'L1_Jet32_DoubleMu_10_0_dPhi_Jet_Mu0_Max0p4_dPhi_Mu_Mu_Min1p0', 'L1_Jet32_Mu0_EG10_dPhi_Jet_Mu_Max0p4_dPhi_Mu_EG_Min1p0', 'L1_MU20_EG15', 'L1_MinimumBiasHF0_AND', 'L1_MinimumBiasHF0_AND_BptxAND', 'L1_MinimumBiasHF0_OR', 'L1_MinimumBiasHF0_OR_BptxAND', 'L1_MinimumBiasHF1_AND', 'L1_MinimumBiasHF1_AND_BptxAND', 'L1_MinimumBiasHF1_OR', 'L1_MinimumBiasHF1_OR_BptxAND', 'L1_Mu0er_ETM40', 'L1_Mu0er_ETM55', 'L1_Mu10er_ETM30', 'L1_Mu10er_ETM50', 'L1_Mu12_EG10', 'L1_Mu14er_ETM30', 'L1_Mu16er_Tau20er', 'L1_Mu16er_Tau24er', 'L1_Mu18er_IsoTau26er', 'L1_Mu18er_Tau20er', 'L1_Mu18er_Tau24er', 'L1_Mu20_EG10', 'L1_Mu20_EG17', 'L1_Mu20_IsoEG6', 'L1_Mu20er_IsoTau26er', 'L1_Mu22er_IsoTau26er', 'L1_Mu23_EG10', 'L1_Mu23_IsoEG10', 'L1_Mu25er_IsoTau26er', 'L1_Mu3_JetC120', 'L1_Mu3_JetC120_dEta_Max0p4_dPhi_Max0p4', 'L1_Mu3_JetC16', 'L1_Mu3_JetC16_dEta_Max0p4_dPhi_Max0p4', 'L1_Mu3_JetC60', 'L1_Mu3_JetC60_dEta_Max0p4_dPhi_Max0p4', 'L1_Mu5_EG15', 'L1_Mu5_EG20', 'L1_Mu5_EG23', 'L1_Mu5_IsoEG18', 'L1_Mu5_IsoEG20', 'L1_Mu6_DoubleEG10', 'L1_Mu6_DoubleEG17', 'L1_Mu6_HTT200', 'L1_Mu8_HTT150', 'L1_NotBptxOR', 'L1_QuadJetC36_Tau52', 'L1_QuadJetC40', 'L1_QuadJetC50', 'L1_QuadJetC60', 'L1_QuadMu0', 'L1_SingleEG10', 'L1_SingleEG15', 'L1_SingleEG18', 'L1_SingleEG24', 'L1_SingleEG26', 'L1_SingleEG28', 'L1_SingleEG2_BptxAND', 'L1_SingleEG30', 'L1_SingleEG32', 'L1_SingleEG34', 'L1_SingleEG36', 'L1_SingleEG38', 'L1_SingleEG40', 'L1_SingleEG45', 'L1_SingleEG5', 'L1_SingleIsoEG18', 'L1_SingleIsoEG18er', 'L1_SingleIsoEG20', 'L1_SingleIsoEG20er', 'L1_SingleIsoEG22', 'L1_SingleIsoEG22er', 'L1_SingleIsoEG24', 'L1_SingleIsoEG24er', 'L1_SingleIsoEG26', 'L1_SingleIsoEG26er', 'L1_SingleIsoEG28', 'L1_SingleIsoEG28er', 'L1_SingleIsoEG30', 'L1_SingleIsoEG30er', 'L1_SingleIsoEG32', 'L1_SingleIsoEG32er', 'L1_SingleIsoEG34', 'L1_SingleIsoEG34er', 'L1_SingleIsoEG36', 'L1_SingleJet120', 'L1_SingleJet12_BptxAND', 'L1_SingleJet140', 'L1_SingleJet150', 'L1_SingleJet16', 'L1_SingleJet160', 'L1_SingleJet170', 'L1_SingleJet180', 'L1_SingleJet20', 'L1_SingleJet200', 'L1_SingleJet35', 'L1_SingleJet60', 'L1_SingleJet8_BptxAND', 'L1_SingleJet90', 'L1_SingleJetC20_NotBptxOR', 'L1_SingleJetC20_NotBptxOR_3BX', 'L1_SingleJetC32_NotBptxOR', 'L1_SingleJetC32_NotBptxOR_3BX', 'L1_SingleJetC36_NotBptxOR_3BX', 'L1_SingleMu10_LowQ', 'L1_SingleMu12', 'L1_SingleMu14', 'L1_SingleMu14er', 'L1_SingleMu16', 'L1_SingleMu16er', 'L1_SingleMu18', 'L1_SingleMu18er', 'L1_SingleMu20', 'L1_SingleMu20er', 'L1_SingleMu22', 'L1_SingleMu22er', 'L1_SingleMu25', 'L1_SingleMu25er', 'L1_SingleMu3', 'L1_SingleMu30', 'L1_SingleMu30er', 'L1_SingleMu5', 'L1_SingleMu7', 'L1_SingleMuCosmics', 'L1_SingleMuOpen', 'L1_SingleMuOpen_NotBptxOR', 'L1_SingleMuOpen_NotBptxOR_3BX', 'L1_SingleTau100er', 'L1_SingleTau120er', 'L1_SingleTau80er', 'L1_TripleEG_14_10_8', 'L1_TripleEG_18_17_8', 'L1_TripleJet_84_68_48_VBF', 'L1_TripleJet_88_72_56_VBF', 'L1_TripleJet_92_76_64_VBF', 'L1_TripleMu0', 'L1_TripleMu_5_0_0', 'L1_TripleMu_5_5_3', 'L1_ZeroBias', 'L1_ZeroBias_FirstCollidingBunch', 'L1_ZeroBias_copy', 'Flag_HBHENoiseFilter', 'Flag_HBHENoiseIsoFilter', 'Flag_CSCTightHaloFilter', 'Flag_CSCTightHaloTrkMuUnvetoFilter', 'Flag_CSCTightHalo2015Filter', 'Flag_globalTightHalo2016Filter', 'Flag_globalSuperTightHalo2016Filter', 'Flag_HcalStripHaloFilter', 'Flag_hcalLaserEventFilter', 'Flag_EcalDeadCellTriggerPrimitiveFilter', 'Flag_EcalDeadCellBoundaryEnergyFilter', 'Flag_ecalBadCalibFilter', 'Flag_goodVertices', 'Flag_eeBadScFilter', 'Flag_ecalLaserCorrFilter', 'Flag_trkPOGFilters', 'Flag_chargedHadronTrackResolutionFilter', 'Flag_muonBadTrackFilter', 'Flag_BadChargedCandidateFilter', 'Flag_BadPFMuonFilter', 'Flag_BadPFMuonDzFilter', 'Flag_hfNoisyHitsFilter', 'Flag_BadChargedCandidateSummer16Filter', 'Flag_BadPFMuonSummer16Filter', 'Flag_trkPOG_manystripclus53X', 'Flag_trkPOG_toomanystripclus53X', 'Flag_trkPOG_logErrorTooManyClusters', 'Flag_METFilters', 'L1Reco_step', 'L1simulation_step', 'HLTriggerFirstPath', 'HLT_Physics', 'HLT_Random', 'HLT_ZeroBias', 'HLTriggerFinalPath']\n",
      "[[96.9, 52.9], [242, 49.1, 38.3, 19], ..., [75.6, 49.6, ..., 11.7], [110, 33.3]]\n"
     ]
    }
   ],
   "source": [
    "import uproot\n",
    "\n",
    "# Open the ROOT file\n",
    "file = uproot.open(\"NanoAOD.root\")\n",
    "\n",
    "# List all the keys in the file (these are typically the names of trees, histograms, etc.)\n",
    "print(file.keys())\n",
    "\n",
    "# Access a specific tree\n",
    "tree = file[\"Events\"]  # Replace \"myTree\" with the actual tree name\n",
    "\n",
    "# List branches (columns) in the tree\n",
    "print(tree.keys())\n",
    "\n",
    "# Access a branch (e.g., \"Electron_pt\") and read its contents\n",
    "electron_pt = tree[\"Electron_pt\"].array()\n",
    "\n",
    "# Print some data\n",
    "print(electron_pt[:10])  # Print the first 10 entries\n"
   ]
  },
  {
   "cell_type": "code",
   "execution_count": 4,
   "metadata": {},
   "outputs": [
    {
     "name": "stdout",
     "output_type": "stream",
     "text": [
      "['nGenJetAK8', 'GenJetAK8_eta', 'GenJetAK8_mass', 'GenJetAK8_phi', 'GenJetAK8_pt', 'nGenJet', 'GenJet_eta', 'GenJet_mass', 'GenJet_phi', 'GenJet_pt', 'nGenPart', 'GenPart_eta', 'GenPart_mass', 'GenPart_phi', 'GenPart_pt', 'GenPart_genPartIdxMother', 'GenPart_pdgId', 'GenPart_status', 'GenPart_statusFlags', 'nSubGenJetAK8', 'SubGenJetAK8_eta', 'SubGenJetAK8_mass', 'SubGenJetAK8_phi', 'SubGenJetAK8_pt', 'Generator_binvar', 'Generator_scalePDF', 'Generator_weight', 'Generator_x1', 'Generator_x2', 'Generator_xpdf1', 'Generator_xpdf2', 'Generator_id1', 'Generator_id2', 'nGenVisTau', 'GenVisTau_eta', 'GenVisTau_mass', 'GenVisTau_phi', 'GenVisTau_pt', 'GenVisTau_charge', 'GenVisTau_genPartIdxMother', 'GenVisTau_status', 'genWeight', 'GenMET_phi', 'GenMET_pt', 'nGenDressedLepton', 'GenDressedLepton_eta', 'GenDressedLepton_mass', 'GenDressedLepton_phi', 'GenDressedLepton_pt', 'GenDressedLepton_pdgId', 'GenDressedLepton_hasTauAnc', 'nGenIsolatedPhoton', 'GenIsolatedPhoton_eta', 'GenIsolatedPhoton_mass', 'GenIsolatedPhoton_phi', 'GenIsolatedPhoton_pt', 'genTtbarId', 'Electron_genPartIdx', 'Electron_genPartFlav', 'FatJet_genJetAK8Idx', 'GenJetAK8_partonFlavour', 'GenJetAK8_hadronFlavour', 'GenJet_partonFlavour', 'GenJet_hadronFlavour', 'Jet_genJetIdx', 'Muon_genPartIdx', 'Muon_genPartFlav', 'Photon_genPartIdx', 'Photon_genPartFlav', 'MET_fiducialGenPhi', 'MET_fiducialGenPt', 'Tau_genPartIdx', 'Tau_genPartFlav']\n"
     ]
    }
   ],
   "source": [
    "gen_keys = [key for key in tree.keys() if \"gen\" in key.lower()]\n",
    "print(gen_keys)"
   ]
  },
  {
   "cell_type": "code",
   "execution_count": 5,
   "metadata": {},
   "outputs": [
    {
     "name": "stdout",
     "output_type": "stream",
     "text": [
      "['btagWeight_CSVV2', 'FatJet_btagCSVV2', 'Jet_btagCSVV2', 'SubJet_btagCSVV2', 'nSV', 'SV_dlen', 'SV_dlenSig', 'SV_dxy', 'SV_dxySig', 'SV_pAngle', 'SV_charge', 'SV_chi2', 'SV_eta', 'SV_mass', 'SV_ndof', 'SV_phi', 'SV_pt', 'SV_x', 'SV_y', 'SV_z', 'SV_ntracks']\n"
     ]
    }
   ],
   "source": [
    "gen_keys = [key for key in tree.keys() if \"sv\" in key.lower()]\n",
    "print(gen_keys)"
   ]
  },
  {
   "cell_type": "code",
   "execution_count": 6,
   "metadata": {},
   "outputs": [
    {
     "name": "stdout",
     "output_type": "stream",
     "text": [
      "['GenPart_genPartIdxMother', 'GenVisTau_genPartIdxMother']\n"
     ]
    }
   ],
   "source": [
    "gen_keys = [key for key in tree.keys() if \"genpartidxmother\" in key.lower()]\n",
    "print(gen_keys)"
   ]
  },
  {
   "cell_type": "code",
   "execution_count": 11,
   "metadata": {},
   "outputs": [
    {
     "name": "stdout",
     "output_type": "stream",
     "text": [
      "100\n",
      "[-1, -1, 0, 0, 2, 3, 4, 4, 6, 6, 7, ..., 19, 18, 16, 16, 16, 17, 17, 17, 27, 27]\n",
      "[-1, -1, 0, 0, 2, 3, 4, 4, 6, 6, 7, ..., 19, 19, 21, -1, -1, -1, -1, -1, 28, 28]\n",
      "[-1, -1, 0, 0, -1, 2, 3, -1, 5, 5, 8, ..., 26, 30, 34, 35, 28, 28, 4, 4, 40, 46]\n",
      "[-1, -1, 0, 0, 2, 3, 4, 4, 5, 5, 9, ..., 10, 10, 20, 20, 21, -1, -1, -1, -1, 28]\n",
      "[-1, -1, 0, 0, 2, 3, 4, 4, 6, 6, 7, ..., -1, -1, 24, 24, 24, 25, 25, 25, 30, 30]\n",
      "[-1, -1, 0, 0, 2, 3, 4, 4, 5, 5, 7, ..., 14, 14, 14, 16, 16, 16, 16, 22, 22, 23]\n",
      "[-1, -1, 0, 0, 2, 3, 4, 4, 6, 6, 7, ..., 10, 10, 12, 12, 15, 15, 16, -1, 20, 21]\n",
      "[-1, -1, 0, 0, 2, 3, 4, 4, 5, 5, 7, 7, 9, 9, -1, 14, -1, -1, 15, 15, 16]\n",
      "[-1, -1, 0, 0, -1, 2, 3, 5, 5, 7, 7, ..., 28, 28, 35, 36, 39, 39, 4, 4, 41, 42]\n",
      "[-1, -1, 0, 0, 2, 3, 4, 4, 6, 6, 7, 5, 5, 10, 10, 14, 14, 13, 12, 12, -1]\n",
      "[-1, -1, 0, 0, 2, 3, 4, 4, 6, 6, 7, ..., 39, 39, 44, 44, 36, 36, 41, 41, 47, 47]\n",
      "[-1, -1, 0, 0, 2, 3, 4, 4, 5, 5, 8, ..., 21, 21, 23, -1, -1, -1, 27, 27, 28, 28]\n",
      "[-1, -1, 0, 0, 2, 3, 4, 4, 5, 5, 8, 8, 9, 7, 7, 12, 12, 16, 16, 16, 15]\n",
      "[-1, -1, 0, 0, 2, 3, 4, 4, 6, 6, 7, ..., 18, 18, 23, 24, 28, 28, 37, 37, 30, 30]\n",
      "[-1, -1, 0, 0, 2, 3, -1, 4, 4, 8, ..., -1, 21, 21, 21, 20, 20, 22, 22, 26, 26]\n",
      "[-1, 4, 0, 0, -1, 2, 3, 5, 5, 6, 6, ..., -1, 4, 4, -1, -1, 19, 20, 4, 4, 21, 24]\n",
      "[-1, -1, 0, 0, 2, 3, 4, 4, 5, 5, 7, 7, 11, 11, 10, 9, 9, -1, -1, 18]\n",
      "[-1, -1, 0, 0, 2, 3, 4, 4, 5, 5, 8, ..., 19, 17, 17, 17, 20, 20, 24, 24, 35, 35]\n",
      "[-1, -1, 0, 0, 2, 3, 4, 4, 5, 5, 9, ..., 17, 16, 16, 18, 18, 19, 20, 21, 26, 26]\n",
      "[-1, -1, 0, 0, 2, 3, 4, 4, 5, 5, 8, ..., 17, 19, 19, 19, 20, 20, 34, 34, 20, 20]\n",
      "[-1, -1, 0, 0, 2, 3, 4, 4, 5, 5, 7, ..., -1, 17, 17, 16, 16, 15, 15, 15, 24, 25]\n",
      "[-1, -1, 0, 0, 2, 3, 4, 4, 5, 5, 7, ..., 9, 13, 13, 12, -1, -1, -1, -1, 17, 17]\n",
      "[-1, -1, 0, 0, 2, 3, 4, 4, 6, 6, 7, ..., 29, 29, 23, 23, 34, 34, 44, 44, 45, 45]\n",
      "[-1, -1, 0, 0, 2, 3, 4, 4, 5, 5, 8, ..., -1, -1, -1, -1, -1, -1, 36, 36, 38, 38]\n",
      "[-1, -1, 0, 0, 2, 3, 4, 4, 6, 6, 7, ..., 19, 19, 19, 19, 15, 14, 14, 13, 13, 13]\n",
      "[-1, -1, 0, 0, 2, 3, -1, 4, 4, 7, ..., 11, 13, 13, 17, 17, 16, -1, -1, 21, 21]\n",
      "[-1, -1, 0, 0, 2, 3, 4, 4, 6, 6, 7, ..., 12, 10, 10, 16, 16, 16, 17, 15, 15, -1]\n",
      "[-1, -1, 0, 0, 2, 3, 4, 4, 5, 5, 8, ..., 12, 12, 19, 19, 19, 20, -1, -1, 26, 26]\n",
      "[-1, -1, 0, 0, 2, 3, 4, 4, 6, 6, 7, ..., 23, 23, 23, 23, 28, 28, 36, 36, 37, 37]\n",
      "[-1, -1, 0, 0, 2, 3, 4, 4, 5, 5, 8, 8, 9, 7, 7, 12, 12, 16, 16, 15]\n",
      "[-1, -1, 0, 0, 2, 3, 4, 4, 6, 6, 7, ..., 22, 22, 22, 21, 21, 21, 23, 23, 28, 28]\n",
      "[-1, -1, 0, 0, 2, 3, 4, 4, 5, 5, 7, ..., 20, 22, 22, 22, 23, 25, 28, 28, 31, 31]\n",
      "[-1, -1, 0, 0, 2, 3, 4, 4, 6, 6, 7, 5, 5, 10, 10, 14, 14, 13, 12, 12, -1]\n",
      "[-1, -1, 0, 0, 2, 3, 4, 4, 5, 5, 7, ..., -1, -1, -1, 11, 11, 11, 10, 10, 10, 10]\n",
      "[-1, -1, 0, 0, 2, 3, -1, 4, 4, 7, ..., 18, 18, 17, 16, 16, 23, 23, 23, 22, -1]\n",
      "[-1, -1, 0, 0, 2, 3, 4, 4, 7, 6, 6, ..., 21, 21, 37, 37, 39, 39, 42, 42, 33, 33]\n",
      "[-1, -1, 0, 0, 2, 3, 4, 4, 5, 5, 7, 7, 9, 9, 13, 13, 13, 12, -1, -1]\n",
      "[-1, -1, 0, 0, 2, 3, 4, 4, 5, 5, 8, ..., 12, -1, -1, 17, 17, 17, 15, 15, 20, 20]\n",
      "[-1, -1, 0, 0, 2, 3, 4, 4, 5, 5, 7, ..., 9, 9, -1, -1, 15, 15, 13, 13, 18, 18]\n",
      "[-1, -1, 0, 0, 2, 3, 4, 4, 5, 5, 7, ..., 24, 30, 31, 32, 23, 23, 36, 36, 43, 43]\n",
      "[-1, -1, 0, 0, 2, 3, -1, 4, 4, 7, ..., 16, 16, 17, -1, -1, -1, -1, 23, 25, 25]\n",
      "[-1, -1, 0, 0, -1, 4, 2, 3, 6, 6, 7, ..., 20, 20, 4, 4, 24, 24, 27, 27, 28, 28]\n",
      "[-1, -1, 0, 0, 2, 3, 4, 4, 6, 6, 7, ..., 14, 14, 13, 12, 12, -1, -1, -1, 20, 20]\n",
      "[-1, -1, 0, 0, 2, 3, 4, 4, 7, 6, 6, ..., 32, 32, 35, 35, 29, 29, 32, 32, 35, 35]\n",
      "[-1, -1, 0, 0, -1, 2, 3, 4, 5, 5, ..., 23, 23, 25, 33, 33, 35, 35, 36, -1, -1]\n",
      "[-1, -1, 0, 0, 2, 3, 4, 4, 6, 6, 7, ..., 10, 10, 16, 16, 17, 20, 20, 18, 15, 15]\n",
      "[-1, -1, 0, 0, 2, 3, 4, 4, 6, 6, 7, ..., 21, 18, -1, -1, -1, -1, -1, -1, 29, 29]\n",
      "[-1, -1, 0, 0, 2, 3, 4, 4, 6, 6, 7, ..., 18, -1, -1, 17, 17, 17, 16, 16, 26, 26]\n",
      "[-1, -1, 0, 0, 2, 3, 4, 4, 5, 5, 8, ..., 15, 15, 15, 18, 18, 19, 19, 19, 28, 28]\n",
      "[-1, -1, 0, 0, 2, 3, 4, 4, 6, 6, 7, ..., 19, 19, 19, 17, 17, 17, 26, 26, 29, 29]\n",
      "[-1, -1, 0, 0, 2, 3, -1, 4, 4, 7, ..., 15, 13, 13, 20, 20, 19, -1, -1, 24, 24]\n",
      "[-1, -1, 0, 0, -1, 2, 3, 5, 5, 7, 7, ..., 18, 24, 40, 40, 25, 25, 4, 4, 32, 32]\n",
      "[-1, -1, 0, 0, 2, 3, 4, 4, 7, 6, 6, ..., 28, 28, 30, 30, 32, 32, 25, 35, 42, 42]\n",
      "[-1, -1, 0, 0, 2, 3, 4, 4, 5, 5, 7, 7, 9, 9]\n",
      "[-1, -1, 0, 0, 2, 3, 4, 4, 6, 6, 7, ..., 20, 30, 30, 31, 31, 33, 22, 22, 24, 24]\n",
      "[-1, -1, 0, 0, 2, 3, -1, 4, 4, 5, ..., 13, 14, 14, 14, 15, 15, 16, 16, 17, 17]\n",
      "[-1, -1, 0, 0, 2, 3, 4, 4, 6, 6, 7, ..., 52, 53, 55, 57, 57, 54, 58, 58, 61, 61]\n",
      "[-1, -1, 0, 0, 2, 3, 4, 4, 6, 6, 7, ..., 10, 16, 16, 17, 15, 15, 21, 21, 22, -1]\n",
      "[-1, -1, 0, 0, 2, 3, 4, 4, 6, 6, 7, ..., -1, -1, -1, 24, 26, 27, 27, 28, 27, 32]\n",
      "[-1, -1, 0, 0, 2, 3, 4, 4, 7, 6, 6, ..., 25, 26, -1, -1, 31, -1, -1, 33, 35, 35]\n",
      "[-1, -1, 0, 0, 2, 3, 4, 4, 5, 5, 7, ..., 12, 12, 12, 14, 14, 14, 20, 20, 27, 27]\n",
      "[-1, -1, 0, 0, 2, 3, 4, 4, 7, 6, 6, ..., 15, 14, 14, 18, 24, 18, 18, 25, 25, 31]\n",
      "[-1, -1, 0, 0, 2, 3, 4, 4, 6, 6, 7, ..., 20, 22, 22, 22, 24, 24, 31, 31, 34, 34]\n",
      "[-1, -1, 0, 0, 2, 3, 4, 4, 6, 6, 7, ..., 11, 11, 11, 10, 10, 13, 13, 19, 19, 20]\n",
      "[-1, -1, 0, 0, 2, 3, 4, 4, 5, 5, 8, ..., -1, -1, 23, 27, 28, 28, 24, 24, 31, 31]\n",
      "[-1, -1, 0, 0, 2, 3, 4, 4, 6, 6, 7, ..., 22, 26, 26, 24, -1, -1, 30, 31, 32, 32]\n",
      "[-1, -1, 0, 0, 2, 3, 4, 4, 6, 6, 7, ..., 15, 15, -1, -1, 23, 24, 25, 26, 27, 27]\n",
      "[-1, -1, 0, 0, 2, 3, 4, 4, 5, 5, 8, ..., 19, 20, 21, 21, 29, 29, 32, 32, 34, 34]\n",
      "[-1, 4, 0, 0, -1, -1, 2, 3, -1, 6, 6, ..., 26, 33, 34, 39, 27, 27, 4, 4, 5, 5]\n",
      "[-1, -1, 0, 0, 2, 3, 4, 4, 5, 5, 7, ..., 22, 22, 27, 27, 28, 34, 35, 35, 36, 36]\n",
      "[-1, -1, 0, 0, 2, 3, 4, 4, 6, 6, 7, ..., 28, 28, 34, 34, 35, 35, 38, 38, 23, 23]\n",
      "[-1, -1, 0, 0, 2, 3, 4, 4, 6, 6, 7, ..., 28, 28, 32, 32, 24, 24, 46, 47, 49, 49]\n",
      "[-1, -1, 0, 0, 2, 3, -1, 4, 4, 7, ..., 14, 14, 14, 15, 15, 15, 24, 24, 32, 32]\n",
      "[-1, -1, 0, 0, 2, 3, 4, 4, 6, 6, 7, ..., 17, 19, 19, 16, 15, 15, -1, -1, 25, 25]\n",
      "[-1, -1, 0, 0, 2, 3, 4, 4, 5, 5, 8, ..., 34, 35, 35, 41, 41, 25, 25, 45, 23, 23]\n",
      "[-1, -1, 0, 0, 2, 3, 4, 4, 5, 5, 9, ..., 17, 16, -1, -1, -1, -1, -1, -1, 21, 21]\n",
      "[-1, -1, 0, 0, 2, 3, 4, 4, 6, 6, 7, ..., -1, -1, -1, -1, -1, -1, 19, 19, 17, 17]\n",
      "[-1, -1, 0, 0, 2, 3, 4, 4, 5, 5, 7, 7, 9, 9, 12, 12, 13, -1]\n",
      "[-1, -1, 0, 0, 2, 3, 4, 4, 6, 6, 7, ..., 25, 25, 25, 30, 30, 33, 33, 36, 25, 25]\n",
      "[-1, -1, 0, 0, 2, 3, 4, 4, 7, 6, 6, ..., 19, 18, 18, 18, 24, 24, 22, 22, 33, 33]\n",
      "[-1, -1, 0, 0, -1, 2, 3, -1, -1, 5, ..., 36, 36, 4, 4, 49, 49, 61, 61, 56, 73]\n",
      "[-1, -1, 0, 0, 2, 3, 4, 4, 5, 5, 8, ..., 28, 28, 31, 31, 37, 37, 38, 38, 24, 24]\n",
      "[-1, -1, 0, 0, 2, 3, 4, 4, 5, 5, 8, ..., 30, -1, 22, 21, 23, 25, 29, 30, 30, 34]\n",
      "[-1, -1, 0, 0, 2, 3, 4, 4, 5, 5, 8, ..., -1, -1, -1, -1, 28, 31, 29, 29, 32, 32]\n",
      "[-1, -1, 0, 0, 2, 3, 4, 4, 6, 6, 7, 5, 5, 10, 10, 12, 12, -1, -1, 18]\n",
      "[-1, -1, 0, 0, 2, 3, 4, 4, 6, 6, 7, ..., 17, 17, 16, 15, 15, 23, 23, 22, -1, -1]\n",
      "[-1, -1, 0, 0, 2, 3, 4, 4, 5, 5, 8, ..., 13, 14, 14, 14, 22, 26, 23, 23, 31, 31]\n",
      "[-1, -1, 0, 0, 2, 3, 4, 4, 6, 6, 7, ..., 10, 12, 12, -1, -1, 15, 15, 15, 16, 16]\n",
      "[-1, -1, 0, 0, 2, 3, 4, 4, 5, 5, 8, 8, 9, 7, 7, 13, 13, 14, 12, 12, -1]\n",
      "[-1, -1, 0, 0, 2, 3, 4, 4, 6, 6, 7, ..., 18, 19, 19, 19, 29, 29, 34, 34, 20, 20]\n",
      "[-1, -1, 0, 0, -1, 2, 3, 5, 5, 7, 7, ..., 25, 4, 4, 34, 34, 34, 37, 37, 40, 40]\n",
      "[-1, -1, 0, 0, 2, 3, 4, 4, 6, 6, 7, ..., 16, 16, 16, 17, 17, 17, 23, 23, 26, 26]\n",
      "[-1, -1, 0, 0, 2, 3, 4, 4, 5, 5, 8, 8, 9, 7, 7, 12, 12, 15, 15, 16]\n",
      "[-1, -1, 0, 0, 2, 3, 4, 4, 5, 5, 7, ..., 11, 11, 11, 10, 10, 10, 17, 17, 25, 25]\n",
      "[-1, -1, 0, 0, 2, 3, 4, 4, 6, 6, 7, ..., 10, 10, 14, 14, 13, 17, 17, 14, 12, 12]\n",
      "[-1, -1, 0, 0, 2, 3, 4, 4, 5, 5, 7, ..., 14, 21, 17, 17, 28, 28, 24, 24, 22, 22]\n",
      "[-1, -1, 0, 0, 2, 3, 4, 4, 5, 5, 8, ..., 13, 16, 16, 16, 16, 14, 12, 12, -1, -1]\n",
      "[-1, -1, 0, 0, 2, 3, 4, 4, 5, 5, 8, ..., 19, 19, 17, 12, 12, 24, 24, 23, 23, 23]\n",
      "[-1, -1, 0, 0, 2, 3, 4, 4, 6, 6, 7, 5, 5, 10, 10, 14, 14, 13, 12, 12, -1]\n",
      "[-1, -1, 0, 0, 2, 3, 4, 4, 6, 6, 7, ..., 47, 30, 40, 48, 27, 27, 33, 33, 33, 33]\n"
     ]
    }
   ],
   "source": [
    "Mothers = tree[\"GenPart_genPartIdxMother\"].array()\n",
    "print(len(Mothers))\n",
    "for i in Mothers:\n",
    "    print(i)"
   ]
  },
  {
   "cell_type": "code",
   "execution_count": 15,
   "metadata": {},
   "outputs": [
    {
     "name": "stdout",
     "output_type": "stream",
     "text": [
      "-1 22\n",
      "-1 22\n",
      "0 2\n",
      "0 2\n",
      "2 -556\n",
      "3 556\n",
      "4 -556\n",
      "4 -556\n",
      "6 -11\n",
      "6 -11\n",
      "7 23\n",
      "5 556\n",
      "5 556\n",
      "11 11\n",
      "11 11\n",
      "12 23\n",
      "10 23\n",
      "10 23\n",
      "15 23\n",
      "15 23\n",
      "19 -13\n",
      "19 -13\n",
      "18 13\n",
      "16 15\n",
      "16 15\n",
      "16 15\n",
      "17 -15\n",
      "17 -15\n",
      "17 -15\n",
      "27 111\n",
      "27 111\n",
      "-1 -11\n",
      "-1 -11\n",
      "0 1\n",
      "0 1\n",
      "2 -556\n",
      "3 556\n",
      "4 -556\n",
      "4 -556\n",
      "6 -11\n",
      "6 -11\n",
      "7 23\n",
      "5 556\n",
      "5 556\n",
      "11 11\n",
      "11 11\n",
      "12 23\n",
      "10 23\n",
      "10 23\n",
      "15 23\n",
      "15 23\n",
      "19 -11\n",
      "18 11\n",
      "21 11\n",
      "19 -11\n",
      "21 11\n",
      "19 -11\n",
      "19 -11\n",
      "21 11\n",
      "-1 -11\n",
      "-1 -11\n",
      "-1 -11\n",
      "-1 -11\n",
      "-1 -11\n",
      "28 3\n",
      "28 3\n",
      "-1 -11\n",
      "-1 -11\n",
      "0 1\n",
      "0 1\n",
      "-1 -11\n",
      "2 -556\n",
      "3 556\n",
      "-1 -11\n",
      "5 556\n",
      "5 556\n",
      "8 -11\n",
      "8 -11\n",
      "9 22\n",
      "6 -11\n",
      "6 -11\n",
      "14 22\n",
      "13 11\n",
      "13 11\n",
      "13 11\n",
      "12 23\n",
      "12 23\n",
      "15 23\n",
      "15 23\n",
      "-1 -11\n",
      "-1 -11\n",
      "-1 -11\n",
      "23 22\n",
      "-1 -11\n",
      "-1 -11\n",
      "-1 -11\n",
      "-1 -11\n",
      "-1 -11\n",
      "-1 -11\n",
      "4 -556\n",
      "4 -556\n",
      "23 22\n",
      "26 22\n",
      "26 22\n",
      "26 22\n",
      "30 2203\n",
      "34 -11\n"
     ]
    },
    {
     "ename": "IndexError",
     "evalue": "cannot slice NumpyArray (of length 35) with np.int32(35): index 35 is out of bounds for axis 0 with size 35\n\nThis error occurred while attempting to slice\n\n    <Array [1, -1, -556, 556, -556, ..., 1, 21, 11, -11] type='35 * int32'>\n\nwith\n\n    np.int32(35)",
     "output_type": "error",
     "traceback": [
      "\u001b[0;31m---------------------------------------------------------------------------\u001b[0m",
      "\u001b[0;31mIndexError\u001b[0m                                Traceback (most recent call last)",
      "File \u001b[0;32m~/LWtest/.venv/lib/python3.10/site-packages/awkward/contents/numpyarray.py:318\u001b[0m, in \u001b[0;36mNumpyArray._getitem_at\u001b[0;34m(self, where)\u001b[0m\n\u001b[1;32m    317\u001b[0m \u001b[38;5;28;01mtry\u001b[39;00m:\n\u001b[0;32m--> 318\u001b[0m     out \u001b[38;5;241m=\u001b[39m \u001b[38;5;28;43mself\u001b[39;49m\u001b[38;5;241;43m.\u001b[39;49m\u001b[43m_data\u001b[49m\u001b[43m[\u001b[49m\u001b[43mwhere\u001b[49m\u001b[43m]\u001b[49m\n\u001b[1;32m    319\u001b[0m \u001b[38;5;28;01mexcept\u001b[39;00m \u001b[38;5;167;01mIndexError\u001b[39;00m \u001b[38;5;28;01mas\u001b[39;00m err:\n",
      "\u001b[0;31mIndexError\u001b[0m: index 35 is out of bounds for axis 0 with size 35",
      "\nThe above exception was the direct cause of the following exception:\n",
      "\u001b[0;31mIndexError\u001b[0m                                Traceback (most recent call last)",
      "File \u001b[0;32m~/LWtest/.venv/lib/python3.10/site-packages/awkward/highlevel.py:1066\u001b[0m, in \u001b[0;36mArray.__getitem__\u001b[0;34m(self, where)\u001b[0m\n\u001b[1;32m   1064\u001b[0m \u001b[38;5;28;01mwith\u001b[39;00m ak\u001b[38;5;241m.\u001b[39m_errors\u001b[38;5;241m.\u001b[39mSlicingErrorContext(\u001b[38;5;28mself\u001b[39m, where):\n\u001b[1;32m   1065\u001b[0m     \u001b[38;5;28;01mreturn\u001b[39;00m wrap_layout(\n\u001b[0;32m-> 1066\u001b[0m         prepare_layout(\u001b[38;5;28;43mself\u001b[39;49m\u001b[38;5;241;43m.\u001b[39;49m\u001b[43m_layout\u001b[49m\u001b[43m[\u001b[49m\u001b[43mwhere\u001b[49m\u001b[43m]\u001b[49m),\n\u001b[1;32m   1067\u001b[0m         \u001b[38;5;28mself\u001b[39m\u001b[38;5;241m.\u001b[39m_behavior,\n\u001b[1;32m   1068\u001b[0m         allow_other\u001b[38;5;241m=\u001b[39m\u001b[38;5;28;01mTrue\u001b[39;00m,\n\u001b[1;32m   1069\u001b[0m         attrs\u001b[38;5;241m=\u001b[39m\u001b[38;5;28mself\u001b[39m\u001b[38;5;241m.\u001b[39m_attrs,\n\u001b[1;32m   1070\u001b[0m     )\n",
      "File \u001b[0;32m~/LWtest/.venv/lib/python3.10/site-packages/awkward/contents/content.py:512\u001b[0m, in \u001b[0;36mContent.__getitem__\u001b[0;34m(self, where)\u001b[0m\n\u001b[1;32m    511\u001b[0m \u001b[38;5;28;01mdef\u001b[39;00m \u001b[38;5;21m__getitem__\u001b[39m(\u001b[38;5;28mself\u001b[39m, where):\n\u001b[0;32m--> 512\u001b[0m     \u001b[38;5;28;01mreturn\u001b[39;00m \u001b[38;5;28;43mself\u001b[39;49m\u001b[38;5;241;43m.\u001b[39;49m\u001b[43m_getitem\u001b[49m\u001b[43m(\u001b[49m\u001b[43mwhere\u001b[49m\u001b[43m)\u001b[49m\n",
      "File \u001b[0;32m~/LWtest/.venv/lib/python3.10/site-packages/awkward/contents/content.py:516\u001b[0m, in \u001b[0;36mContent._getitem\u001b[0;34m(self, where)\u001b[0m\n\u001b[1;32m    515\u001b[0m \u001b[38;5;28;01mif\u001b[39;00m is_integer_like(where):\n\u001b[0;32m--> 516\u001b[0m     \u001b[38;5;28;01mreturn\u001b[39;00m \u001b[38;5;28;43mself\u001b[39;49m\u001b[38;5;241;43m.\u001b[39;49m\u001b[43m_getitem_at\u001b[49m\u001b[43m(\u001b[49m\u001b[43mak\u001b[49m\u001b[38;5;241;43m.\u001b[39;49m\u001b[43m_slicing\u001b[49m\u001b[38;5;241;43m.\u001b[39;49m\u001b[43mnormalize_integer_like\u001b[49m\u001b[43m(\u001b[49m\u001b[43mwhere\u001b[49m\u001b[43m)\u001b[49m\u001b[43m)\u001b[49m\n\u001b[1;32m    518\u001b[0m \u001b[38;5;28;01melif\u001b[39;00m \u001b[38;5;28misinstance\u001b[39m(where, \u001b[38;5;28mslice\u001b[39m) \u001b[38;5;129;01mand\u001b[39;00m where\u001b[38;5;241m.\u001b[39mstep \u001b[38;5;129;01mis\u001b[39;00m \u001b[38;5;28;01mNone\u001b[39;00m:\n\u001b[1;32m    519\u001b[0m     \u001b[38;5;66;03m# Ensure that start, stop are non-negative!\u001b[39;00m\n",
      "File \u001b[0;32m~/LWtest/.venv/lib/python3.10/site-packages/awkward/contents/numpyarray.py:320\u001b[0m, in \u001b[0;36mNumpyArray._getitem_at\u001b[0;34m(self, where)\u001b[0m\n\u001b[1;32m    319\u001b[0m \u001b[38;5;28;01mexcept\u001b[39;00m \u001b[38;5;167;01mIndexError\u001b[39;00m \u001b[38;5;28;01mas\u001b[39;00m err:\n\u001b[0;32m--> 320\u001b[0m     \u001b[38;5;28;01mraise\u001b[39;00m ak\u001b[38;5;241m.\u001b[39m_errors\u001b[38;5;241m.\u001b[39mindex_error(\u001b[38;5;28mself\u001b[39m, where, \u001b[38;5;28mstr\u001b[39m(err)) \u001b[38;5;28;01mfrom\u001b[39;00m \u001b[38;5;21;01merr\u001b[39;00m\n\u001b[1;32m    322\u001b[0m \u001b[38;5;28;01mif\u001b[39;00m \u001b[38;5;28mhasattr\u001b[39m(out, \u001b[38;5;124m\"\u001b[39m\u001b[38;5;124mshape\u001b[39m\u001b[38;5;124m\"\u001b[39m) \u001b[38;5;129;01mand\u001b[39;00m \u001b[38;5;28mlen\u001b[39m(out\u001b[38;5;241m.\u001b[39mshape) \u001b[38;5;241m!=\u001b[39m \u001b[38;5;241m0\u001b[39m:\n",
      "\u001b[0;31mIndexError\u001b[0m: cannot slice NumpyArray (of length 35) with np.int32(35): index 35 is out of bounds for axis 0 with size 35",
      "\nThe above exception was the direct cause of the following exception:\n",
      "\u001b[0;31mIndexError\u001b[0m                                Traceback (most recent call last)",
      "Cell \u001b[0;32mIn[15], line 5\u001b[0m\n\u001b[1;32m      3\u001b[0m \u001b[38;5;28;01mfor\u001b[39;00m moms \u001b[38;5;129;01min\u001b[39;00m Mothers:\n\u001b[1;32m      4\u001b[0m     \u001b[38;5;28;01mfor\u001b[39;00m i \u001b[38;5;129;01min\u001b[39;00m moms:\n\u001b[0;32m----> 5\u001b[0m         \u001b[38;5;28mprint\u001b[39m(i,\u001b[43mpdgId\u001b[49m\u001b[43m[\u001b[49m\u001b[43mc\u001b[49m\u001b[43m]\u001b[49m\u001b[43m[\u001b[49m\u001b[43mi\u001b[49m\u001b[43m]\u001b[49m)\n\u001b[1;32m      6\u001b[0m     c\u001b[38;5;241m=\u001b[39m\u001b[38;5;241m+\u001b[39m\u001b[38;5;241m1\u001b[39m\n",
      "File \u001b[0;32m~/LWtest/.venv/lib/python3.10/site-packages/awkward/highlevel.py:1064\u001b[0m, in \u001b[0;36mArray.__getitem__\u001b[0;34m(self, where)\u001b[0m\n\u001b[1;32m    635\u001b[0m \u001b[38;5;28;01mdef\u001b[39;00m \u001b[38;5;21m__getitem__\u001b[39m(\u001b[38;5;28mself\u001b[39m, where):\n\u001b[1;32m    636\u001b[0m \u001b[38;5;250m    \u001b[39m\u001b[38;5;124;03m\"\"\"\u001b[39;00m\n\u001b[1;32m    637\u001b[0m \u001b[38;5;124;03m    Args:\u001b[39;00m\n\u001b[1;32m    638\u001b[0m \u001b[38;5;124;03m        where (many types supported; see below): Index of positions to\u001b[39;00m\n\u001b[0;32m   (...)\u001b[0m\n\u001b[1;32m   1062\u001b[0m \u001b[38;5;124;03m    have the same dimension as the array being indexed.\u001b[39;00m\n\u001b[1;32m   1063\u001b[0m \u001b[38;5;124;03m    \"\"\"\u001b[39;00m\n\u001b[0;32m-> 1064\u001b[0m     \u001b[38;5;28;01mwith\u001b[39;00m ak\u001b[38;5;241m.\u001b[39m_errors\u001b[38;5;241m.\u001b[39mSlicingErrorContext(\u001b[38;5;28mself\u001b[39m, where):\n\u001b[1;32m   1065\u001b[0m         \u001b[38;5;28;01mreturn\u001b[39;00m wrap_layout(\n\u001b[1;32m   1066\u001b[0m             prepare_layout(\u001b[38;5;28mself\u001b[39m\u001b[38;5;241m.\u001b[39m_layout[where]),\n\u001b[1;32m   1067\u001b[0m             \u001b[38;5;28mself\u001b[39m\u001b[38;5;241m.\u001b[39m_behavior,\n\u001b[1;32m   1068\u001b[0m             allow_other\u001b[38;5;241m=\u001b[39m\u001b[38;5;28;01mTrue\u001b[39;00m,\n\u001b[1;32m   1069\u001b[0m             attrs\u001b[38;5;241m=\u001b[39m\u001b[38;5;28mself\u001b[39m\u001b[38;5;241m.\u001b[39m_attrs,\n\u001b[1;32m   1070\u001b[0m         )\n",
      "File \u001b[0;32m~/LWtest/.venv/lib/python3.10/site-packages/awkward/_errors.py:85\u001b[0m, in \u001b[0;36mErrorContext.__exit__\u001b[0;34m(self, exception_type, exception_value, traceback)\u001b[0m\n\u001b[1;32m     78\u001b[0m \u001b[38;5;28;01mtry\u001b[39;00m:\n\u001b[1;32m     79\u001b[0m     \u001b[38;5;66;03m# Handle caught exception\u001b[39;00m\n\u001b[1;32m     80\u001b[0m     \u001b[38;5;28;01mif\u001b[39;00m (\n\u001b[1;32m     81\u001b[0m         exception_type \u001b[38;5;129;01mis\u001b[39;00m \u001b[38;5;129;01mnot\u001b[39;00m \u001b[38;5;28;01mNone\u001b[39;00m\n\u001b[1;32m     82\u001b[0m         \u001b[38;5;129;01mand\u001b[39;00m \u001b[38;5;28missubclass\u001b[39m(exception_type, \u001b[38;5;167;01mException\u001b[39;00m)\n\u001b[1;32m     83\u001b[0m         \u001b[38;5;129;01mand\u001b[39;00m \u001b[38;5;28mself\u001b[39m\u001b[38;5;241m.\u001b[39mprimary() \u001b[38;5;129;01mis\u001b[39;00m \u001b[38;5;28mself\u001b[39m\n\u001b[1;32m     84\u001b[0m     ):\n\u001b[0;32m---> 85\u001b[0m         \u001b[38;5;28;43mself\u001b[39;49m\u001b[38;5;241;43m.\u001b[39;49m\u001b[43mhandle_exception\u001b[49m\u001b[43m(\u001b[49m\u001b[43mexception_type\u001b[49m\u001b[43m,\u001b[49m\u001b[43m \u001b[49m\u001b[43mexception_value\u001b[49m\u001b[43m)\u001b[49m\n\u001b[1;32m     86\u001b[0m \u001b[38;5;28;01mfinally\u001b[39;00m:\n\u001b[1;32m     87\u001b[0m     \u001b[38;5;66;03m# Step out of the way so that another ErrorContext can become primary.\u001b[39;00m\n\u001b[1;32m     88\u001b[0m     \u001b[38;5;28;01mif\u001b[39;00m \u001b[38;5;28mself\u001b[39m\u001b[38;5;241m.\u001b[39mprimary() \u001b[38;5;129;01mis\u001b[39;00m \u001b[38;5;28mself\u001b[39m:\n",
      "File \u001b[0;32m~/LWtest/.venv/lib/python3.10/site-packages/awkward/_errors.py:95\u001b[0m, in \u001b[0;36mErrorContext.handle_exception\u001b[0;34m(self, cls, exception)\u001b[0m\n\u001b[1;32m     93\u001b[0m     \u001b[38;5;28mself\u001b[39m\u001b[38;5;241m.\u001b[39mdecorate_exception(\u001b[38;5;28mcls\u001b[39m, exception)\n\u001b[1;32m     94\u001b[0m \u001b[38;5;28;01melse\u001b[39;00m:\n\u001b[0;32m---> 95\u001b[0m     \u001b[38;5;28;01mraise\u001b[39;00m \u001b[38;5;28mself\u001b[39m\u001b[38;5;241m.\u001b[39mdecorate_exception(\u001b[38;5;28mcls\u001b[39m, exception)\n",
      "\u001b[0;31mIndexError\u001b[0m: cannot slice NumpyArray (of length 35) with np.int32(35): index 35 is out of bounds for axis 0 with size 35\n\nThis error occurred while attempting to slice\n\n    <Array [1, -1, -556, 556, -556, ..., 1, 21, 11, -11] type='35 * int32'>\n\nwith\n\n    np.int32(35)"
     ]
    }
   ],
   "source": [
    "pdgId = tree[\"GenPart_pdgId\"].array()\n",
    "c=0\n",
    "for moms in Mothers:\n",
    "    for i in moms:\n",
    "        print(i,pdgId[c][i])\n",
    "    c=+1"
   ]
  },
  {
   "cell_type": "code",
   "execution_count": null,
   "metadata": {},
   "outputs": [],
   "source": []
  }
 ],
 "metadata": {
  "kernelspec": {
   "display_name": ".venv",
   "language": "python",
   "name": "python3"
  },
  "language_info": {
   "codemirror_mode": {
    "name": "ipython",
    "version": 3
   },
   "file_extension": ".py",
   "mimetype": "text/x-python",
   "name": "python",
   "nbconvert_exporter": "python",
   "pygments_lexer": "ipython3",
   "version": "3.10.12"
  }
 },
 "nbformat": 4,
 "nbformat_minor": 2
}
